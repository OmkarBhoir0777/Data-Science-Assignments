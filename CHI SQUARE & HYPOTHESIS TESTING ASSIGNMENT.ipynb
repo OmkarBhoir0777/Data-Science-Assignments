{
 "cells": [
  {
   "cell_type": "markdown",
   "id": "881a9b6c",
   "metadata": {},
   "source": [
    "# CHI SQUARE ASSIGNMENT"
   ]
  },
  {
   "cell_type": "code",
   "execution_count": 7,
   "id": "e48a7ea1",
   "metadata": {},
   "outputs": [
    {
     "name": "stdout",
     "output_type": "stream",
     "text": [
      "Chi-Square Statistic: 5.638227513227513\n",
      "p-value: 0.22784371130697179\n",
      "Degrees of Freedom: 4\n",
      "Expected Frequencies:\n",
      " [[ 48.  72.]\n",
      " [ 72. 108.]\n",
      " [ 60.  90.]\n",
      " [ 32.  48.]\n",
      " [ 28.  42.]]\n",
      "Critical Value: 9.487729036781154\n",
      "Fail to reject the null hypothesis. There is no significant association between the device type and customer satisfaction.\n"
     ]
    }
   ],
   "source": [
    "import numpy as np\n",
    "import pandas as pd\n",
    "from scipy.stats import chi2_contingency, chi2\n",
    "\n",
    "# Assignment Tasks:\n",
    "\n",
    "# 1. State the Hypotheses:\n",
    "# H0 (Null Hypothesis): There is no significant association between the type of device purchased (Smart Thermostat vs. Smart Light) and the customer satisfaction level.\n",
    "# H1 (Alternative Hypothesis): There is a significant association between the type of device purchased and the customer satisfaction level.\n",
    "\n",
    "# 2. Compute the Chi-Square Statistic:\n",
    "\n",
    "# Create the contingency table\n",
    "data = np.array([[50, 70],\n",
    "                 [80, 100],\n",
    "                 [60, 90],\n",
    "                 [30, 50],\n",
    "                 [20, 50]])\n",
    "\n",
    "df = pd.DataFrame(data, columns=['Smart Thermostat', 'Smart Light'], \n",
    "                  index=['Very Satisfied', 'Satisfied', 'Neutral', 'Unsatisfied', 'Very Unsatisfied'])\n",
    "\n",
    "# Perform the Chi-Square test\n",
    "chi2_stat, p_val, dof, expected = chi2_contingency(df)\n",
    "\n",
    "print(\"Chi-Square Statistic:\", chi2_stat)\n",
    "print(\"p-value:\", p_val)\n",
    "print(\"Degrees of Freedom:\", dof)\n",
    "print(\"Expected Frequencies:\\n\", expected)\n",
    "\n",
    "# 3. Determine the Critical Value:\n",
    "alpha = 0.05\n",
    "critical_value = chi2.ppf(1 - alpha, dof)\n",
    "\n",
    "print(\"Critical Value:\", critical_value)\n",
    "\n",
    "# 4. Make a Decision:\n",
    "if chi2_stat > critical_value:\n",
    "    print(\"Reject the null hypothesis. There is a significant association between the device type and customer satisfaction.\")\n",
    "else:\n",
    "    print(\"Fail to reject the null hypothesis. There is no significant association between the device type and customer satisfaction.\")\n"
   ]
  },
  {
   "cell_type": "markdown",
   "id": "841fc16d",
   "metadata": {},
   "source": [
    "# HYPOTHESIS TESTING"
   ]
  },
  {
   "cell_type": "code",
   "execution_count": 12,
   "id": "e6093781",
   "metadata": {},
   "outputs": [
    {
     "name": "stdout",
     "output_type": "stream",
     "text": [
      "Test Statistic (Z): -38.0\n",
      "Critical Value (Z): 1.6448536269514722\n",
      "Fail to reject the null hypothesis. There is no strong evidence to support the claim that the weekly operating costs are higher than the model suggests.\n"
     ]
    }
   ],
   "source": [
    "import numpy as np\n",
    "from scipy.stats import norm\n",
    "\n",
    "# Assignment Tasks:\n",
    "\n",
    "# 1. State the Hypotheses statement:\n",
    "# H0 (Null Hypothesis): The mean weekly operating cost according to the cost model is accurate. \n",
    "# H0: μ = 1000 + 5*600 = Rs. 4000\n",
    "# H1 (Alternative Hypothesis): The mean weekly operating cost is higher than the cost model suggests.\n",
    "# H1: μ > Rs. 4000\n",
    "\n",
    "# 2. Calculate the Test Statistic:\n",
    "# Given data:\n",
    "sample_mean = 3050  # Rs. 3050\n",
    "n = 25  # Sample size\n",
    "X = 600  # Mean number of units produced in a week\n",
    "std_X = 25  # Standard deviation of units produced\n",
    "model_mean = 1000 + 5 * X  # Theoretical mean weekly cost\n",
    "sigma = 5 * std_X  # Standard deviation of weekly operating cost\n",
    "\n",
    "# Test statistic (Z) calculation\n",
    "z = (sample_mean - model_mean) / (sigma / np.sqrt(n))\n",
    "\n",
    "print(f\"Test Statistic (Z): {z}\")\n",
    "\n",
    "# 3. Determine the Critical Value:\n",
    "alpha = 0.05  # Significance level\n",
    "critical_value = norm.ppf(1 - alpha)  # Z critical value for a one-tailed test\n",
    "\n",
    "print(f\"Critical Value (Z): {critical_value}\")\n",
    "\n",
    "# 4. Make a Decision:\n",
    "if z > critical_value:\n",
    "    print(\"Reject the null hypothesis. There is strong evidence to support the claim that the weekly operating costs are higher than the model suggests.\")\n",
    "else:\n",
    "    print(\"Fail to reject the null hypothesis. There is no strong evidence to support the claim that the weekly operating costs are higher than the model suggests.\")\n",
    "\n",
    "# 5. Conclusion = output\n",
    "# The conclusion is provided based on the decision step.\n"
   ]
  },
  {
   "cell_type": "code",
   "execution_count": null,
   "id": "0582a625",
   "metadata": {},
   "outputs": [],
   "source": []
  }
 ],
 "metadata": {
  "kernelspec": {
   "display_name": "Python 3 (ipykernel)",
   "language": "python",
   "name": "python3"
  },
  "language_info": {
   "codemirror_mode": {
    "name": "ipython",
    "version": 3
   },
   "file_extension": ".py",
   "mimetype": "text/x-python",
   "name": "python",
   "nbconvert_exporter": "python",
   "pygments_lexer": "ipython3",
   "version": "3.11.5"
  }
 },
 "nbformat": 4,
 "nbformat_minor": 5
}
