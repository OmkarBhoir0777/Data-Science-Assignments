{
 "cells": [
  {
   "cell_type": "code",
   "execution_count": 2,
   "id": "9dac59f5",
   "metadata": {},
   "outputs": [],
   "source": [
    "import pandas as pd\n",
    "import numpy as np\n",
    "import scipy.stats as stats\n",
    "\n",
    "# Given data\n",
    "data = [1.13, 1.55, 1.43, 0.92, 1.25, 1.36, 1.32, 0.85, 1.07, 1.48, 1.20, 1.33, 1.18, 1.22, 1.29]\n",
    "n = len(data)\n",
    "mean = np.mean(data)\n",
    "sample_std = np.std(data, ddof=1)"
   ]
  },
  {
   "cell_type": "code",
   "execution_count": 3,
   "id": "4366a572",
   "metadata": {},
   "outputs": [],
   "source": [
    "# Task a: Using sample standard deviation\n",
    "confidence_level = 0.99\n",
    "alpha = 1 - confidence_level\n",
    "df = n - 1\n",
    "t_critical = stats.t.ppf(1 - alpha/2, df)\n",
    "margin_of_error_a = t_critical * (sample_std / np.sqrt(n))\n",
    "ci_a = (mean - margin_of_error_a, mean + margin_of_error_a)\n"
   ]
  },
  {
   "cell_type": "code",
   "execution_count": 4,
   "id": "ba9d4a67",
   "metadata": {},
   "outputs": [
    {
     "data": {
      "text/plain": [
       "(1.2386666666666666,\n",
       " 0.19316412956959936,\n",
       " 2.97684273411266,\n",
       " (1.090197338451367, 1.3871359948819662),\n",
       " 2.5758293035489004,\n",
       " (1.1056514133957607, 1.3716819199375725))"
      ]
     },
     "execution_count": 4,
     "metadata": {},
     "output_type": "execute_result"
    }
   ],
   "source": [
    "# Task b: Using known population standard deviation\n",
    "population_std = 0.2\n",
    "z_critical = stats.norm.ppf(1 - alpha/2)\n",
    "margin_of_error_b = z_critical * (population_std / np.sqrt(n))\n",
    "ci_b = (mean - margin_of_error_b, mean + margin_of_error_b)\n",
    "\n",
    "mean, sample_std, t_critical, ci_a, z_critical, ci_b\n"
   ]
  },
  {
   "cell_type": "code",
   "execution_count": null,
   "id": "fb037b95",
   "metadata": {},
   "outputs": [],
   "source": []
  }
 ],
 "metadata": {
  "kernelspec": {
   "display_name": "Python 3 (ipykernel)",
   "language": "python",
   "name": "python3"
  },
  "language_info": {
   "codemirror_mode": {
    "name": "ipython",
    "version": 3
   },
   "file_extension": ".py",
   "mimetype": "text/x-python",
   "name": "python",
   "nbconvert_exporter": "python",
   "pygments_lexer": "ipython3",
   "version": "3.11.5"
  }
 },
 "nbformat": 4,
 "nbformat_minor": 5
}
