{
 "cells": [
  {
   "cell_type": "markdown",
   "id": "b1b3914b-0dad-4296-9844-162cd86e5c1c",
   "metadata": {},
   "source": [
    "## Association Rule"
   ]
  },
  {
   "cell_type": "code",
   "execution_count": 5,
   "id": "e0049443-f12f-4c83-b711-4e4670ea1c63",
   "metadata": {},
   "outputs": [
    {
     "name": "stderr",
     "output_type": "stream",
     "text": [
      "C:\\Users\\Omkar\\AppData\\Local\\Temp\\ipykernel_41080\\2542892218.py:28: FutureWarning: DataFrame.applymap has been deprecated. Use DataFrame.map instead.\n",
      "  basket = basket.applymap(encode_units)\n",
      "C:\\Users\\Omkar\\anaconda3\\Lib\\site-packages\\mlxtend\\frequent_patterns\\fpcommon.py:109: DeprecationWarning: DataFrames with non-bool types result in worse computationalperformance and their support might be discontinued in the future.Please use a DataFrame with bool type\n",
      "  warnings.warn(\n"
     ]
    },
    {
     "name": "stdout",
     "output_type": "stream",
     "text": [
      "                            antecedents                          consequents  \\\n",
      "14          (POPPY'S PLAYHOUSE KITCHEN)         (POPPY'S PLAYHOUSE BEDROOM )   \n",
      "15         (POPPY'S PLAYHOUSE BEDROOM )          (POPPY'S PLAYHOUSE KITCHEN)   \n",
      "18         (ALARM CLOCK BAKELIKE GREEN)          (ALARM CLOCK BAKELIKE RED )   \n",
      "19          (ALARM CLOCK BAKELIKE RED )         (ALARM CLOCK BAKELIKE GREEN)   \n",
      "23          (ALARM CLOCK BAKELIKE PINK)          (ALARM CLOCK BAKELIKE RED )   \n",
      "..                                  ...                                  ...   \n",
      "911  (SET OF 12 MINI LOAF BAKING CASES)     (SET OF 6 TEA TIME BAKING CASES)   \n",
      "913  (SET OF 6 SNACK LOAF BAKING CASES)  (SET OF 12 FAIRY CAKE BAKING CASES)   \n",
      "914  (SET OF 6 SNACK LOAF BAKING CASES)   (SET OF 12 MINI LOAF BAKING CASES)   \n",
      "915  (SET OF 12 MINI LOAF BAKING CASES)   (SET OF 6 SNACK LOAF BAKING CASES)   \n",
      "933        (HAND WARMER RED LOVE HEART)             (HAND WARMER OWL DESIGN)   \n",
      "\n",
      "      support  confidence       lift  \n",
      "14   0.013703    0.734104  43.061242  \n",
      "15   0.013703    0.803797  43.061242  \n",
      "18   0.028593    0.671736  14.197612  \n",
      "19   0.028593    0.604333  14.197612  \n",
      "23   0.021364    0.646003  13.653725  \n",
      "..        ...         ...        ...  \n",
      "911  0.010250    0.529248  30.752788  \n",
      "913  0.010898    0.694158  27.670783  \n",
      "914  0.010412    0.663230  34.244111  \n",
      "915  0.010412    0.537604  34.244111  \n",
      "933  0.010952    0.547170  17.731363  \n",
      "\n",
      "[275 rows x 5 columns]\n"
     ]
    }
   ],
   "source": [
    "# Import necessary libraries\n",
    "import pandas as pd\n",
    "from mlxtend.frequent_patterns import fpgrowth, association_rules\n",
    "\n",
    "# Load dataset\n",
    "file_path = 'OnlineRetail.csv'\n",
    "df = pd.read_csv(file_path, encoding='ISO-8859-1')\n",
    "\n",
    "# Data Preprocessing\n",
    "# Remove missing values\n",
    "df.dropna(subset=['InvoiceNo', 'StockCode', 'Description', 'Quantity', 'InvoiceDate', 'UnitPrice', 'CustomerID'], inplace=True)\n",
    "\n",
    "# Remove duplicates\n",
    "df.drop_duplicates(inplace=True)\n",
    "\n",
    "# Remove transactions with negative or zero quantity\n",
    "df = df[df['Quantity'] > 0]\n",
    "\n",
    "# Create a basket with the quantity of each product per transaction\n",
    "basket = (df.groupby(['InvoiceNo', 'Description'])['Quantity']\n",
    "          .sum().unstack().reset_index().fillna(0)\n",
    "          .set_index('InvoiceNo'))\n",
    "\n",
    "# Convert values to 1 and 0 (for association rule mining)\n",
    "def encode_units(x):\n",
    "    return 1 if x > 0 else 0\n",
    "\n",
    "basket = basket.applymap(encode_units)\n",
    "\n",
    "# Apply the FP-Growth algorithm to find frequent itemsets\n",
    "frequent_itemsets = fpgrowth(basket, min_support=0.01, use_colnames=True)\n",
    "\n",
    "# Generate association rules\n",
    "rules = association_rules(frequent_itemsets, metric=\"lift\", min_threshold=1)\n",
    "\n",
    "# Filter rules based on support, confidence, and lift thresholds\n",
    "filtered_rules = rules[(rules['support'] >= 0.01) &\n",
    "                       (rules['confidence'] >= 0.5) &\n",
    "                       (rules['lift'] >= 1.2)]\n",
    "\n",
    "# Print and analyze the top rules\n",
    "print(filtered_rules[['antecedents', 'consequents', 'support', 'confidence', 'lift']])\n",
    "\n",
    "# Save the rules to a CSV file for further analysis\n",
    "filtered_rules.to_csv('association_rules_output.csv', index=False)\n"
   ]
  },
  {
   "cell_type": "markdown",
   "id": "6b54a696-7fc2-4502-ad3c-88248533369e",
   "metadata": {},
   "source": [
    "## Interview Q & A\n",
    "\n",
    "1.What is lift and why is it important in Association rules?\n",
    "\n",
    "Lift is a measure used in association rule mining to evaluate the strength of a rule by comparing the observed support of the rule with the expected support if the items were independent. Specifically, it quantifies how much more likely two items are to be purchased together than we would expect if they were independent.\n",
    "\n",
    "\n",
    "Importance: Lift helps to identify rules that are not just frequent but also significant. A lift value greater than 1 indicates that the occurrence of X and Y together is more significant than would be expected by chance, which can reveal strong associations between items.\n",
    "\n",
    "2.What is support and confidence? How do you calculate them?\n",
    "\n",
    "Support measures the proportion of transactions in which an item or itemset appears. It helps to identify the most frequent itemsets.\n",
    "\n",
    "Number of transactions containing \n",
    "𝑋\n",
    "Total number of transactions\n",
    "Support(X)= \n",
    "Total number of transactions\n",
    "Number of transactions containing X\n",
    "​\n",
    "Confidence measures the likelihood that item Y is purchased given that item X is purchased. It is a measure of the rule's reliability.\n",
    "\n",
    "Support(X) is the support of item X.\n",
    "Support helps to identify frequent itemsets, and Confidence helps to assess the strength of the implication in the association rule.\n",
    "\n",
    "3.What are some limitations or challenges of Association rules mining?\n",
    "\n",
    "* Scalability: Association rule mining can be computationally expensive, especially with large datasets. The number of possible itemsets grows exponentially with the number of items, which can make the process slow and resource-intensive.\n",
    "\n",
    "* Handling Large Itemsets: As the number of items increases, the number of potential itemsets grows rapidly, leading to challenges in generating and evaluating all possible combinations.\n",
    "\n",
    "* Redundancy: Association rule mining may generate a large number of rules, some of which may be redundant or offer similar insights, making it difficult to extract actionable knowledge.\n",
    "\n",
    "* Interpretability: The rules generated may not always be meaningful or easy to interpret. It can be challenging to determine which rules are practically useful for decision-making.\n",
    "\n",
    "* Threshold Sensitivity: The results of association rule mining can be sensitive to the thresholds set for support and confidence. Different thresholds can lead to different sets of rules, potentially missing valuable associations.\n",
    "\n",
    "* Dynamic Data: In dynamic environments where data changes frequently, maintaining up-to-date rules can be challenging. Rules that were significant at one time may become obsolete as data evolves."
   ]
  },
  {
   "cell_type": "code",
   "execution_count": null,
   "id": "0d8a9921-9534-4be4-bca5-ec109692115b",
   "metadata": {},
   "outputs": [],
   "source": []
  }
 ],
 "metadata": {
  "kernelspec": {
   "display_name": "Python 3 (ipykernel)",
   "language": "python",
   "name": "python3"
  },
  "language_info": {
   "codemirror_mode": {
    "name": "ipython",
    "version": 3
   },
   "file_extension": ".py",
   "mimetype": "text/x-python",
   "name": "python",
   "nbconvert_exporter": "python",
   "pygments_lexer": "ipython3",
   "version": "3.12.4"
  }
 },
 "nbformat": 4,
 "nbformat_minor": 5
}
