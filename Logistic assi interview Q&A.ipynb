{
 "cells": [
  {
   "cell_type": "markdown",
   "id": "c43bb017-aa79-4ed0-86c4-6e1eef799c05",
   "metadata": {},
   "source": [
    "Interview Questions:\r\n",
    "1. What is the difference between precision and recall?\r\n"
   ]
  },
  {
   "cell_type": "markdown",
   "id": "fc01cbde-9d82-4ec8-88ac-1a2dc226c542",
   "metadata": {},
   "source": [
    "Precision vs. Recall\n",
    "Precision and recall are two key metrics used in binary classification to evaluate the performance of a model. They measure different aspects of a model's ability to correctly classify instances.\n",
    "\n",
    "Precision is the ratio of true positives to the sum of true positives and false positives. It measures how many of the instances the model predicted as positive were actually positive.\n",
    "Formula: Precision = (True Positives) / (True Positives + False Positives)\n",
    "Recall is the ratio of true positives to the sum of true positives and false negatives. It measures how many of the actual positive instances1 the model correctly predicted as positive.\n",
    "Formula: Recall = (True Positives) / (True Positives + False Negatives)"
   ]
  },
  {
   "cell_type": "markdown",
   "id": "a915657c-8663-46f5-9ac6-89289b80f1a2",
   "metadata": {},
   "source": [
    "2. What is cross-validation, and why is it important in binary classification?\n",
    "\n",
    "   Cross-Validation\n",
    "Cross-validation is a technique used to evaluate the performance of a machine learning model on unseen data. It involves dividing the dataset into multiple folds, training the model on a subset of the folds, and evaluating its performance on the remaining fold. This process is repeated multiple times, with each fold being used as the test set once.   \n",
    "\n",
    "Why is it important in binary classification?\n",
    "\n",
    "Overfitting Prevention: Cross-validation helps prevent overfitting, which occurs when a model learns the training data too well and performs poorly on new, unseen data.\n",
    "Performance Estimation: Cross-validation provides a more reliable estimate of the model's performance on unseen data compared to a single train-test split.\n",
    "Model Selection: Cross-validation can be used to compare the performance of different models or hyperparameter settings."
   ]
  },
  {
   "cell_type": "code",
   "execution_count": null,
   "id": "3cc86171-47b7-4fb0-8a91-7b5df93046ac",
   "metadata": {},
   "outputs": [],
   "source": []
  }
 ],
 "metadata": {
  "kernelspec": {
   "display_name": "Python 3 (ipykernel)",
   "language": "python",
   "name": "python3"
  },
  "language_info": {
   "codemirror_mode": {
    "name": "ipython",
    "version": 3
   },
   "file_extension": ".py",
   "mimetype": "text/x-python",
   "name": "python",
   "nbconvert_exporter": "python",
   "pygments_lexer": "ipython3",
   "version": "3.12.4"
  }
 },
 "nbformat": 4,
 "nbformat_minor": 5
}
